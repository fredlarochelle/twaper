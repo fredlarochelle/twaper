{
  "nbformat": 4,
  "nbformat_minor": 0,
  "metadata": {
    "colab": {
      "name": "Experiments.ipynb",
      "provenance": [],
      "collapsed_sections": [],
      "authorship_tag": "ABX9TyP0/bNCm5vUfDVVQgnieKvd",
      "include_colab_link": true
    },
    "kernelspec": {
      "name": "python3",
      "display_name": "Python 3"
    },
    "language_info": {
      "name": "python"
    }
  },
  "cells": [
    {
      "cell_type": "markdown",
      "metadata": {
        "id": "view-in-github",
        "colab_type": "text"
      },
      "source": [
        "<a href=\"https://colab.research.google.com/github/fredlarochelle/tweety/blob/main/notebooks/0.1_fl_experiments.ipynb\" target=\"_parent\"><img src=\"https://colab.research.google.com/assets/colab-badge.svg\" alt=\"Open In Colab\"/></a>"
      ]
    },
    {
      "cell_type": "code",
      "source": [
        "import requests\n",
        "import re\n",
        "import random\n",
        "import string\n",
        "from bs4 import BeautifulSoup as bs\n",
        "import pandas as pd"
      ],
      "metadata": {
        "id": "CNRDMYLpALsO"
      },
      "execution_count": 1,
      "outputs": []
    },
    {
      "cell_type": "code",
      "source": [
        "def get_proxy():\n",
        "  # https://proxylist.geonode.com/api/organdasn?limit=200&page=2\n",
        "  response_proxy = requests.get(\"https://free-proxy-list.net/\")\n",
        "\n",
        "  soup = bs(response_proxy.content, \"html.parser\")\n",
        "\n",
        "  tds = soup.find(\"tbody\").find_all(\"tr\")\n",
        "\n",
        "  proxies = []\n",
        "\n",
        "  for io in tds:\n",
        "    proxies.append(f\"{io.find_all('td')[0].text}:{io.find_all('td')[1].text}\")\n",
        "\n",
        "  return proxies"
      ],
      "metadata": {
        "id": "5KrVuOOmNFFW"
      },
      "execution_count": 2,
      "outputs": []
    },
    {
      "cell_type": "code",
      "source": [
        "def get_headers(typed=None):\n",
        "  if not typed:\n",
        "    print(\"not\")\n",
        "    headers = {\n",
        "      \"authority\": \"twitter.com\",\n",
        "      \"sec-ch-ua\": '\"Google Chrome\";v=\"93\", \" Not;A Brand\";v=\"99\", \"Chromium\";v=\"93\"',\n",
        "      \"x-twitter-client-language\": \"en\",\n",
        "      \"accept\": \"text/html,application/xhtml+xml,application/xml;q=0.9,image/avif,image/webp,image/apng,*/*;q=0.8,application/signed-exchange;v=b3;q=0.9\",\n",
        "      \"accept-encoding\": \"gzip, deflate, br\",\n",
        "      \"upgrade-insecure-requests\": \"1\",\n",
        "      \"sec-ch-ua-platform\": 'Windows\"',\n",
        "      \"sec-ch-ua-mobile\": \"?0\",\n",
        "      \"user-agent\": \"Mozilla/5.0 (Windows NT 10.0; Win64; x64) AppleWebKit/537.36 (KHTML, like Gecko) Chrome/93.0.4577.82 Safari/537.36\",\n",
        "    }\n",
        "  else:\n",
        "    print(\"yep\")\n",
        "    headers = {\n",
        "      'x-csrf-token': ''.join(random.choices(string.ascii_letters + string.digits, k=32)),\n",
        "      'authorization': \"Bearer \" + \"AAAAAAAAAAAAAAAAAAAAANRILgAAAAAAnNwIzUejRCOuH5E6I8xnZz4puTs%3D1Zv7ttfk8LF81IUq16cHjhLTvJu4FA33AGWWjCpTnA\",\n",
        "      'content-type': \"application/json\",\n",
        "      'referer': \"https://twitter.com/AmitabhJha3\",\n",
        "      \"authority\": \"twitter.com\",\n",
        "      \"sec-ch-ua\": '\"Google Chrome\";v=\"93\", \" Not;A Brand\";v=\"99\", \"Chromium\";v=\"93\"',\n",
        "      \"x-twitter-client-language\": \"en\",\n",
        "      \"upgrade-insecure-requests\": \"1\",\n",
        "      \"sec-ch-ua-platform\": 'Windows\"',\n",
        "      \"sec-ch-ua-mobile\": \"?0\",\n",
        "      \"user-agent\": \"Mozilla/5.0 (Windows NT 10.0; Win64; x64) AppleWebKit/537.36 (KHTML, like Gecko) Chrome/93.0.4577.82 Safari/537.36\",\n",
        "      \"x-guest-token\": typed\n",
        "    }\n",
        "    \n",
        "  return headers"
      ],
      "metadata": {
        "id": "p1Pwz7IxpuIs"
      },
      "execution_count": 3,
      "outputs": []
    },
    {
      "cell_type": "code",
      "source": [
        "def get_guest_token():\n",
        "  try:\n",
        "    response = requests.get(\"https://twitter.com/i/trends\", headers=get_headers(), proxies=proxy)\n",
        "\n",
        "    guest_token = re.findall(\n",
        "      'document\\.cookie = decodeURIComponent\\(\"gt=(.*?); Max-Age=10800; Domain=\\.twitter\\.com; Path=/; Secure\"\\);',\n",
        "      response.text)\n",
        "    \n",
        "    try:\n",
        "      return guest_token[0]\n",
        "    except IndexError:\n",
        "      raise ValueError(\"Guest token couldn't be found. Aborting...\")\n",
        "  except:\n",
        "    raise ValueError(\"Response didn't work...\")"
      ],
      "metadata": {
        "id": "yFsAlHqdIY6O"
      },
      "execution_count": 4,
      "outputs": []
    },
    {
      "cell_type": "code",
      "source": [
        "proxy = {\"http\": random.choice(get_proxy())}\n",
        "guest_headers = get_headers(get_guest_token())"
      ],
      "metadata": {
        "colab": {
          "base_uri": "https://localhost:8080/"
        },
        "id": "cU93HHNYmkvX",
        "outputId": "ddb81a28-833a-40b4-ce69-bb00839554ee"
      },
      "execution_count": 5,
      "outputs": [
        {
          "output_type": "stream",
          "name": "stdout",
          "text": [
            "not\n",
            "yep\n"
          ]
        }
      ]
    },
    {
      "cell_type": "code",
      "source": [
        "def format_search(response):\n",
        "  response_json = response.json()\n",
        "\n",
        "  cursor = []\n",
        "\n",
        "  for i in response_json['timeline']['instructions'][0]['addEntries']['entries']:\n",
        "    if 'operation' in i['content']:\n",
        "      if i['content']['operation']['cursor']['cursorType'] == \"Bottom\":\n",
        "        cursor.append(i['content']['operation']['cursor']['value'])\n",
        "\n",
        "  if len(cursor) == 0:\n",
        "    for i in response_json['timeline']['instructions']:\n",
        "      for key in i.keys():\n",
        "        if key == \"replaceEntry\":\n",
        "          if i['replaceEntry']['entry']['content']['operation']['cursor']['cursorType'] == \"Bottom\":\n",
        "            cursor.append(i['replaceEntry']['entry']['content']['operation']['cursor']['value'])\n",
        "            break\n",
        "\n",
        "  data = []\n",
        "\n",
        "  for element in response_json['globalObjects']['tweets']:\n",
        "    data.append([response_json['globalObjects']['tweets'][element][\"created_at\"], response_json['globalObjects']['tweets'][element][\"full_text\"], response_json['globalObjects']['tweets'][element][\"id\"], response_json['globalObjects']['tweets'][element][\"user_id\"]])\n",
        "\n",
        "  return data, cursor"
      ],
      "metadata": {
        "id": "_7xE5uleR_hc"
      },
      "execution_count": 6,
      "outputs": []
    },
    {
      "cell_type": "code",
      "source": [
        "search_url = \"https://twitter.com/i/api/2/search/adaptive.json?include_profile_interstitial_type=1&include_blocking=1&include_blocked_by=1&include_followed_by=1&include_want_retweets=1&include_mute_edge=1&include_can_dm=1&include_can_media_tag=1&skip_status=1&cards_platform=Web-12&include_cards=1&include_ext_alt_text=true&include_quote_count=true&include_reply_count=1&tweet_mode=extended&include_entities=true&include_user_entities=true&include_ext_media_color=true&include_ext_media_availability=true&send_error_codes=true&simple_quoted_tweet=true&q={}&count=20&query_source=typeahead_click&pc=1&spelling_corrections=1&ext=mediaStats%2ChighlightedLabel%2CvoiceInfo\"\n",
        "\n",
        "def search(query, pages=1):\n",
        "  url = f\"{search_url}&tweet_search_mode=live\"\n",
        "  r = requests.get(url.format(query), headers=guest_headers, proxies=proxy)\n",
        "\n",
        "  tweets_data, cursor = format_search(r)\n",
        "\n",
        "  for i in range(pages):\n",
        "    url = f\"{search_url}&tweet_search_mode=live&cursor={cursor[0]}\"\n",
        "    r = requests.get(url.format(query), headers=guest_headers, proxies=proxy)\n",
        "    tweets_data_temp, cursor = format_search(r)\n",
        "\n",
        "    tweets_data.extend(tweets_data_temp)\n",
        "\n",
        "  return pd.DataFrame(tweets_data, columns=[\"created_at\", \"full_text\", \"id\", \"user_id\"])"
      ],
      "metadata": {
        "id": "mGZTinwRPPOU"
      },
      "execution_count": 7,
      "outputs": []
    },
    {
      "cell_type": "code",
      "source": [
        "%time test = search('canada', pages=20)"
      ],
      "metadata": {
        "colab": {
          "base_uri": "https://localhost:8080/"
        },
        "id": "gxhbVh-11gJy",
        "outputId": "b726f213-7388-4970-fbbf-8822356ba351"
      },
      "execution_count": 8,
      "outputs": [
        {
          "output_type": "stream",
          "name": "stdout",
          "text": [
            "CPU times: user 357 ms, sys: 14.2 ms, total: 371 ms\n",
            "Wall time: 7.13 s\n"
          ]
        }
      ]
    },
    {
      "cell_type": "code",
      "source": [
        "test"
      ],
      "metadata": {
        "colab": {
          "base_uri": "https://localhost:8080/",
          "height": 424
        },
        "id": "P4__2g9637AO",
        "outputId": "ed17e8f0-9474-404f-fcdb-6b0298e2af62"
      },
      "execution_count": 9,
      "outputs": [
        {
          "output_type": "execute_result",
          "data": {
            "text/html": [
              "\n",
              "  <div id=\"df-36dd8973-86ad-42e0-8524-1d31920d371c\">\n",
              "    <div class=\"colab-df-container\">\n",
              "      <div>\n",
              "<style scoped>\n",
              "    .dataframe tbody tr th:only-of-type {\n",
              "        vertical-align: middle;\n",
              "    }\n",
              "\n",
              "    .dataframe tbody tr th {\n",
              "        vertical-align: top;\n",
              "    }\n",
              "\n",
              "    .dataframe thead th {\n",
              "        text-align: right;\n",
              "    }\n",
              "</style>\n",
              "<table border=\"1\" class=\"dataframe\">\n",
              "  <thead>\n",
              "    <tr style=\"text-align: right;\">\n",
              "      <th></th>\n",
              "      <th>created_at</th>\n",
              "      <th>full_text</th>\n",
              "      <th>id</th>\n",
              "      <th>user_id</th>\n",
              "    </tr>\n",
              "  </thead>\n",
              "  <tbody>\n",
              "    <tr>\n",
              "      <th>0</th>\n",
              "      <td>Thu Dec 23 06:12:31 +0000 2021</td>\n",
              "      <td>@aracelibs Nosotros viajamos a Canadá a princi...</td>\n",
              "      <td>1473899300090351618</td>\n",
              "      <td>1428159371805040644</td>\n",
              "    </tr>\n",
              "    <tr>\n",
              "      <th>1</th>\n",
              "      <td>Thu Dec 23 06:11:47 +0000 2021</td>\n",
              "      <td>Canada sees record-breaking 14,456 new COVID-1...</td>\n",
              "      <td>1473899115838853123</td>\n",
              "      <td>1430853682824876033</td>\n",
              "    </tr>\n",
              "    <tr>\n",
              "      <th>2</th>\n",
              "      <td>Thu Dec 23 06:12:12 +0000 2021</td>\n",
              "      <td>Just read this from Gov't of Canada's website:...</td>\n",
              "      <td>1473899218507075587</td>\n",
              "      <td>1403458233805721601</td>\n",
              "    </tr>\n",
              "    <tr>\n",
              "      <th>3</th>\n",
              "      <td>Thu Dec 23 06:11:48 +0000 2021</td>\n",
              "      <td>It's 11:11 in…\\n🇺🇸 United States (MST)\\n🇨🇦 Can...</td>\n",
              "      <td>1473899118544101380</td>\n",
              "      <td>1399327423020208133</td>\n",
              "    </tr>\n",
              "    <tr>\n",
              "      <th>4</th>\n",
              "      <td>Thu Dec 23 06:12:28 +0000 2021</td>\n",
              "      <td>@DickZoutman I don't understand why @JustinTru...</td>\n",
              "      <td>1473899286362570759</td>\n",
              "      <td>1366220072860196865</td>\n",
              "    </tr>\n",
              "    <tr>\n",
              "      <th>...</th>\n",
              "      <td>...</td>\n",
              "      <td>...</td>\n",
              "      <td>...</td>\n",
              "      <td>...</td>\n",
              "    </tr>\n",
              "    <tr>\n",
              "      <th>426</th>\n",
              "      <td>Thu Dec 23 05:54:50 +0000 2021</td>\n",
              "      <td>點開網站 \"Available in Canada\" ...</td>\n",
              "      <td>1473894849867055105</td>\n",
              "      <td>92580306</td>\n",
              "    </tr>\n",
              "    <tr>\n",
              "      <th>427</th>\n",
              "      <td>Thu Dec 23 05:54:54 +0000 2021</td>\n",
              "      <td>@CTVToronto @erinotoole @NewYorkStateAG @Charl...</td>\n",
              "      <td>1473894865029185545</td>\n",
              "      <td>1363008538784727041</td>\n",
              "    </tr>\n",
              "    <tr>\n",
              "      <th>428</th>\n",
              "      <td>Wed Dec 22 23:01:15 +0000 2021</td>\n",
              "      <td>@WhiteCrkLumber https://t.co/an9URMpfyb</td>\n",
              "      <td>1473790766958800896</td>\n",
              "      <td>4749623750</td>\n",
              "    </tr>\n",
              "    <tr>\n",
              "      <th>429</th>\n",
              "      <td>Thu Dec 23 05:54:54 +0000 2021</td>\n",
              "      <td>@Barspin1 @BurnerTeddy @thepurpletart @wballs3...</td>\n",
              "      <td>1473894865255686144</td>\n",
              "      <td>1425964864594452488</td>\n",
              "    </tr>\n",
              "    <tr>\n",
              "      <th>430</th>\n",
              "      <td>Thu Dec 23 05:54:48 +0000 2021</td>\n",
              "      <td>@grayfortexas Merry Christmas from Canada</td>\n",
              "      <td>1473894840681127939</td>\n",
              "      <td>1399861591051411460</td>\n",
              "    </tr>\n",
              "  </tbody>\n",
              "</table>\n",
              "<p>431 rows × 4 columns</p>\n",
              "</div>\n",
              "      <button class=\"colab-df-convert\" onclick=\"convertToInteractive('df-36dd8973-86ad-42e0-8524-1d31920d371c')\"\n",
              "              title=\"Convert this dataframe to an interactive table.\"\n",
              "              style=\"display:none;\">\n",
              "        \n",
              "  <svg xmlns=\"http://www.w3.org/2000/svg\" height=\"24px\"viewBox=\"0 0 24 24\"\n",
              "       width=\"24px\">\n",
              "    <path d=\"M0 0h24v24H0V0z\" fill=\"none\"/>\n",
              "    <path d=\"M18.56 5.44l.94 2.06.94-2.06 2.06-.94-2.06-.94-.94-2.06-.94 2.06-2.06.94zm-11 1L8.5 8.5l.94-2.06 2.06-.94-2.06-.94L8.5 2.5l-.94 2.06-2.06.94zm10 10l.94 2.06.94-2.06 2.06-.94-2.06-.94-.94-2.06-.94 2.06-2.06.94z\"/><path d=\"M17.41 7.96l-1.37-1.37c-.4-.4-.92-.59-1.43-.59-.52 0-1.04.2-1.43.59L10.3 9.45l-7.72 7.72c-.78.78-.78 2.05 0 2.83L4 21.41c.39.39.9.59 1.41.59.51 0 1.02-.2 1.41-.59l7.78-7.78 2.81-2.81c.8-.78.8-2.07 0-2.86zM5.41 20L4 18.59l7.72-7.72 1.47 1.35L5.41 20z\"/>\n",
              "  </svg>\n",
              "      </button>\n",
              "      \n",
              "  <style>\n",
              "    .colab-df-container {\n",
              "      display:flex;\n",
              "      flex-wrap:wrap;\n",
              "      gap: 12px;\n",
              "    }\n",
              "\n",
              "    .colab-df-convert {\n",
              "      background-color: #E8F0FE;\n",
              "      border: none;\n",
              "      border-radius: 50%;\n",
              "      cursor: pointer;\n",
              "      display: none;\n",
              "      fill: #1967D2;\n",
              "      height: 32px;\n",
              "      padding: 0 0 0 0;\n",
              "      width: 32px;\n",
              "    }\n",
              "\n",
              "    .colab-df-convert:hover {\n",
              "      background-color: #E2EBFA;\n",
              "      box-shadow: 0px 1px 2px rgba(60, 64, 67, 0.3), 0px 1px 3px 1px rgba(60, 64, 67, 0.15);\n",
              "      fill: #174EA6;\n",
              "    }\n",
              "\n",
              "    [theme=dark] .colab-df-convert {\n",
              "      background-color: #3B4455;\n",
              "      fill: #D2E3FC;\n",
              "    }\n",
              "\n",
              "    [theme=dark] .colab-df-convert:hover {\n",
              "      background-color: #434B5C;\n",
              "      box-shadow: 0px 1px 3px 1px rgba(0, 0, 0, 0.15);\n",
              "      filter: drop-shadow(0px 1px 2px rgba(0, 0, 0, 0.3));\n",
              "      fill: #FFFFFF;\n",
              "    }\n",
              "  </style>\n",
              "\n",
              "      <script>\n",
              "        const buttonEl =\n",
              "          document.querySelector('#df-36dd8973-86ad-42e0-8524-1d31920d371c button.colab-df-convert');\n",
              "        buttonEl.style.display =\n",
              "          google.colab.kernel.accessAllowed ? 'block' : 'none';\n",
              "\n",
              "        async function convertToInteractive(key) {\n",
              "          const element = document.querySelector('#df-36dd8973-86ad-42e0-8524-1d31920d371c');\n",
              "          const dataTable =\n",
              "            await google.colab.kernel.invokeFunction('convertToInteractive',\n",
              "                                                     [key], {});\n",
              "          if (!dataTable) return;\n",
              "\n",
              "          const docLinkHtml = 'Like what you see? Visit the ' +\n",
              "            '<a target=\"_blank\" href=https://colab.research.google.com/notebooks/data_table.ipynb>data table notebook</a>'\n",
              "            + ' to learn more about interactive tables.';\n",
              "          element.innerHTML = '';\n",
              "          dataTable['output_type'] = 'display_data';\n",
              "          await google.colab.output.renderOutput(dataTable, element);\n",
              "          const docLink = document.createElement('div');\n",
              "          docLink.innerHTML = docLinkHtml;\n",
              "          element.appendChild(docLink);\n",
              "        }\n",
              "      </script>\n",
              "    </div>\n",
              "  </div>\n",
              "  "
            ],
            "text/plain": [
              "                         created_at  ...              user_id\n",
              "0    Thu Dec 23 06:12:31 +0000 2021  ...  1428159371805040644\n",
              "1    Thu Dec 23 06:11:47 +0000 2021  ...  1430853682824876033\n",
              "2    Thu Dec 23 06:12:12 +0000 2021  ...  1403458233805721601\n",
              "3    Thu Dec 23 06:11:48 +0000 2021  ...  1399327423020208133\n",
              "4    Thu Dec 23 06:12:28 +0000 2021  ...  1366220072860196865\n",
              "..                              ...  ...                  ...\n",
              "426  Thu Dec 23 05:54:50 +0000 2021  ...             92580306\n",
              "427  Thu Dec 23 05:54:54 +0000 2021  ...  1363008538784727041\n",
              "428  Wed Dec 22 23:01:15 +0000 2021  ...           4749623750\n",
              "429  Thu Dec 23 05:54:54 +0000 2021  ...  1425964864594452488\n",
              "430  Thu Dec 23 05:54:48 +0000 2021  ...  1399861591051411460\n",
              "\n",
              "[431 rows x 4 columns]"
            ]
          },
          "metadata": {},
          "execution_count": 9
        }
      ]
    },
    {
      "cell_type": "code",
      "source": [
        ""
      ],
      "metadata": {
        "id": "R94lOgpE67Pk"
      },
      "execution_count": null,
      "outputs": []
    }
  ]
}